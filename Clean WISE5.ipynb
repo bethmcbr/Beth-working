{
 "cells": [
  {
   "cell_type": "code",
   "execution_count": 1,
   "metadata": {
    "collapsed": false
   },
   "outputs": [],
   "source": [
    "import numpy as np\n",
    "import matplotlib.pyplot as plt\n",
    "import pandas as pd"
   ]
  },
  {
   "cell_type": "code",
   "execution_count": 11,
   "metadata": {
    "collapsed": true
   },
   "outputs": [],
   "source": [
    "# Import file\n",
    "df_pre = pd.read_csv(\"Martinez_pre_F16.csv\", delimiter = \",\")"
   ]
  },
  {
   "cell_type": "code",
   "execution_count": 12,
   "metadata": {
    "collapsed": false
   },
   "outputs": [
    {
     "data": {
      "text/html": [
       "<div>\n",
       "<table border=\"1\" class=\"dataframe\">\n",
       "  <thead>\n",
       "    <tr style=\"text-align: right;\">\n",
       "      <th></th>\n",
       "      <th>id</th>\n",
       "      <th>node id</th>\n",
       "      <th>component id</th>\n",
       "      <th>component type</th>\n",
       "      <th>stepnumber</th>\n",
       "      <th>step title</th>\n",
       "      <th>component_number</th>\n",
       "      <th>isAutoSave</th>\n",
       "      <th>isSubmit</th>\n",
       "      <th>client save time</th>\n",
       "      <th>...</th>\n",
       "      <th>project id</th>\n",
       "      <th>WISE ID 1</th>\n",
       "      <th>WISE ID 2</th>\n",
       "      <th>WISE ID 3</th>\n",
       "      <th>response</th>\n",
       "      <th>Unnamed: 22</th>\n",
       "      <th>Unnamed: 23</th>\n",
       "      <th>Unnamed: 24</th>\n",
       "      <th>Unnamed: 25</th>\n",
       "      <th>Unnamed: 26</th>\n",
       "    </tr>\n",
       "  </thead>\n",
       "  <tbody>\n",
       "    <tr>\n",
       "      <th>0</th>\n",
       "      <td>204167</td>\n",
       "      <td>node2</td>\n",
       "      <td>ufxmcsgt5e</td>\n",
       "      <td>MultipleChoice</td>\n",
       "      <td>1.1</td>\n",
       "      <td>Car on cold day</td>\n",
       "      <td>2</td>\n",
       "      <td>1</td>\n",
       "      <td>0</td>\n",
       "      <td>11/14/16 8:42</td>\n",
       "      <td>...</td>\n",
       "      <td>18787</td>\n",
       "      <td>148024</td>\n",
       "      <td>NaN</td>\n",
       "      <td>NaN</td>\n",
       "      <td>NaN</td>\n",
       "      <td>NaN</td>\n",
       "      <td>NaN</td>\n",
       "      <td>NaN</td>\n",
       "      <td>NaN</td>\n",
       "      <td>NaN</td>\n",
       "    </tr>\n",
       "    <tr>\n",
       "      <th>1</th>\n",
       "      <td>204392</td>\n",
       "      <td>node2</td>\n",
       "      <td>hucom13uly</td>\n",
       "      <td>OpenResponse</td>\n",
       "      <td>1.1</td>\n",
       "      <td>Car on cold day</td>\n",
       "      <td>3</td>\n",
       "      <td>1</td>\n",
       "      <td>0</td>\n",
       "      <td>11/14/16 8:46</td>\n",
       "      <td>...</td>\n",
       "      <td>18787</td>\n",
       "      <td>148024</td>\n",
       "      <td>NaN</td>\n",
       "      <td>NaN</td>\n",
       "      <td>Colder than the air inside because the air out...</td>\n",
       "      <td>NaN</td>\n",
       "      <td>NaN</td>\n",
       "      <td>NaN</td>\n",
       "      <td>NaN</td>\n",
       "      <td>NaN</td>\n",
       "    </tr>\n",
       "    <tr>\n",
       "      <th>2</th>\n",
       "      <td>204393</td>\n",
       "      <td>node2</td>\n",
       "      <td>30dxrmhj4j</td>\n",
       "      <td>MultipleChoice</td>\n",
       "      <td>1.1</td>\n",
       "      <td>Car on cold day</td>\n",
       "      <td>4</td>\n",
       "      <td>1</td>\n",
       "      <td>0</td>\n",
       "      <td>11/14/16 8:46</td>\n",
       "      <td>...</td>\n",
       "      <td>18787</td>\n",
       "      <td>148024</td>\n",
       "      <td>NaN</td>\n",
       "      <td>NaN</td>\n",
       "      <td>NaN</td>\n",
       "      <td>NaN</td>\n",
       "      <td>NaN</td>\n",
       "      <td>NaN</td>\n",
       "      <td>NaN</td>\n",
       "      <td>NaN</td>\n",
       "    </tr>\n",
       "    <tr>\n",
       "      <th>3</th>\n",
       "      <td>204697</td>\n",
       "      <td>node8</td>\n",
       "      <td>yqliivfpwk</td>\n",
       "      <td>OpenResponse</td>\n",
       "      <td>1.2</td>\n",
       "      <td>Design Something New</td>\n",
       "      <td>2</td>\n",
       "      <td>1</td>\n",
       "      <td>0</td>\n",
       "      <td>11/14/16 8:55</td>\n",
       "      <td>...</td>\n",
       "      <td>18787</td>\n",
       "      <td>148024</td>\n",
       "      <td>NaN</td>\n",
       "      <td>NaN</td>\n",
       "      <td>You will probably need wood, nails, a tiny cup...</td>\n",
       "      <td>NaN</td>\n",
       "      <td>NaN</td>\n",
       "      <td>NaN</td>\n",
       "      <td>NaN</td>\n",
       "      <td>NaN</td>\n",
       "    </tr>\n",
       "  </tbody>\n",
       "</table>\n",
       "<p>4 rows × 27 columns</p>\n",
       "</div>"
      ],
      "text/plain": [
       "       id node id component id  component type  stepnumber  \\\n",
       "0  204167   node2   ufxmcsgt5e  MultipleChoice         1.1   \n",
       "1  204392   node2   hucom13uly    OpenResponse         1.1   \n",
       "2  204393   node2   30dxrmhj4j  MultipleChoice         1.1   \n",
       "3  204697   node8   yqliivfpwk    OpenResponse         1.2   \n",
       "\n",
       "             step title  component_number  isAutoSave  isSubmit  \\\n",
       "0       Car on cold day                 2           1         0   \n",
       "1       Car on cold day                 3           1         0   \n",
       "2       Car on cold day                 4           1         0   \n",
       "3  Design Something New                 2           1         0   \n",
       "\n",
       "  client save time     ...      project id WISE ID 1  WISE ID 2  WISE ID 3  \\\n",
       "0    11/14/16 8:42     ...           18787    148024        NaN        NaN   \n",
       "1    11/14/16 8:46     ...           18787    148024        NaN        NaN   \n",
       "2    11/14/16 8:46     ...           18787    148024        NaN        NaN   \n",
       "3    11/14/16 8:55     ...           18787    148024        NaN        NaN   \n",
       "\n",
       "                                            response  Unnamed: 22 Unnamed: 23  \\\n",
       "0                                                NaN          NaN         NaN   \n",
       "1  Colder than the air inside because the air out...          NaN         NaN   \n",
       "2                                                NaN          NaN         NaN   \n",
       "3  You will probably need wood, nails, a tiny cup...          NaN         NaN   \n",
       "\n",
       "   Unnamed: 24  Unnamed: 25  Unnamed: 26  \n",
       "0          NaN          NaN          NaN  \n",
       "1          NaN          NaN          NaN  \n",
       "2          NaN          NaN          NaN  \n",
       "3          NaN          NaN          NaN  \n",
       "\n",
       "[4 rows x 27 columns]"
      ]
     },
     "execution_count": 12,
     "metadata": {},
     "output_type": "execute_result"
    }
   ],
   "source": [
    "df_pre.head(4)"
   ]
  },
  {
   "cell_type": "markdown",
   "metadata": {},
   "source": [
    "**Pretest**\n",
    "\n",
    "*If pretest was imported, use these to find relevant componenets*"
   ]
  },
  {
   "cell_type": "code",
   "execution_count": 13,
   "metadata": {
    "collapsed": true
   },
   "outputs": [],
   "source": [
    "Car_pre = df_pre[(df_pre.stepnumber == 1.1) & (df_pre.component_number == 3)]\n",
    "Car_pre.to_csv('Car_pre.csv')"
   ]
  },
  {
   "cell_type": "code",
   "execution_count": 14,
   "metadata": {
    "collapsed": true
   },
   "outputs": [],
   "source": [
    "Design1_pre = df_pre[(df_pre.stepnumber == 1.2) & (df_pre.component_number == 2)]\n",
    "Design2_pre = df_pre[(df_pre.stepnumber == 1.2) & (df_pre.component_number == 3)]\n",
    "Design1_pre.to_csv('Design1_pre.csv')\n",
    "Design2_pre.to_csv('Design2_pre.csv')"
   ]
  },
  {
   "cell_type": "code",
   "execution_count": 15,
   "metadata": {
    "collapsed": true
   },
   "outputs": [],
   "source": [
    "David2_pre = df_pre[(df_pre.stepnumber == 1.3) & (df_pre.component_number == 2)]\n",
    "David4_pre = df_pre[(df_pre.stepnumber == 1.3) & (df_pre.component_number == 4)]\n",
    "David5_pre = df_pre[(df_pre.stepnumber == 1.3) & (df_pre.component_number == 5)]\n",
    "David2_pre.to_csv('David2_pre.csv')\n",
    "David4_pre.to_csv('David4_pre.csv')\n",
    "David5_pre.to_csv('David5_pre.csv')"
   ]
  },
  {
   "cell_type": "code",
   "execution_count": 16,
   "metadata": {
    "collapsed": true
   },
   "outputs": [],
   "source": [
    "Tomato1_pre = df_pre[(df_pre.stepnumber == 1.4) & (df_pre.component_number == 2)]\n",
    "Tomato2_pre = df_pre[(df_pre.stepnumber == 1.4) & (df_pre.component_number == 3)]\n",
    "Tomato1_pre.to_csv('Tomato1_pre.csv')\n",
    "Tomato2_pre.to_csv('Tomato2_pre.csv')"
   ]
  },
  {
   "cell_type": "code",
   "execution_count": 17,
   "metadata": {
    "collapsed": true
   },
   "outputs": [],
   "source": [
    "Greenhouse1_pre = df_pre[(df_pre.stepnumber == 1.5) & (df_pre.component_number == 3)] \n",
    "Greenhouse2_pre = df_pre[(df_pre.stepnumber == 1.5) & (df_pre.component_number == 5)]\n",
    "Greenhouse1_pre.to_csv('Greenhouse3_pre.csv')\n",
    "Greenhouse2_pre.to_csv('Greenhouse5_pre.csv')"
   ]
  },
  {
   "cell_type": "code",
   "execution_count": 18,
   "metadata": {
    "collapsed": true
   },
   "outputs": [],
   "source": [
    "Laura1_pre = df_pre[(df_pre.stepnumber == 1.6) & (df_pre.component_number == 3)] \n",
    "Laura2_pre = df_pre[(df_pre.stepnumber == 1.6) & (df_pre.component_number == 5)]          \n",
    "Laura1_pre.to_csv('Laura1_pre.csv')\n",
    "Laura2_pre.to_csv('Laura2_pre.csv')"
   ]
  },
  {
   "cell_type": "markdown",
   "metadata": {},
   "source": [
    "**Posttest**\n",
    "\n",
    "*Import posttest, find relevant components*"
   ]
  },
  {
   "cell_type": "code",
   "execution_count": 5,
   "metadata": {
    "collapsed": true
   },
   "outputs": [],
   "source": [
    "df_post = pd.read_excel(\"Martinez_posttest.xls\")"
   ]
  },
  {
   "cell_type": "code",
   "execution_count": 6,
   "metadata": {
    "collapsed": false
   },
   "outputs": [
    {
     "data": {
      "text/html": [
       "<div>\n",
       "<table border=\"1\" class=\"dataframe\">\n",
       "  <thead>\n",
       "    <tr style=\"text-align: right;\">\n",
       "      <th></th>\n",
       "      <th>id</th>\n",
       "      <th>node id</th>\n",
       "      <th>component id</th>\n",
       "      <th>component type</th>\n",
       "      <th>stepnumber</th>\n",
       "      <th>step title</th>\n",
       "      <th>component_number</th>\n",
       "      <th>isAutoSave</th>\n",
       "      <th>isSubmit</th>\n",
       "      <th>client save time</th>\n",
       "      <th>...</th>\n",
       "      <th>teacher username</th>\n",
       "      <th>project id</th>\n",
       "      <th>WISE ID 1</th>\n",
       "      <th>WISE ID 2</th>\n",
       "      <th>WISE ID 3</th>\n",
       "      <th>response</th>\n",
       "      <th>Unnamed: 22</th>\n",
       "      <th>Unnamed: 23</th>\n",
       "      <th>Unnamed: 24</th>\n",
       "      <th>Unnamed: 25</th>\n",
       "    </tr>\n",
       "  </thead>\n",
       "  <tbody>\n",
       "    <tr>\n",
       "      <th>0</th>\n",
       "      <td>277256</td>\n",
       "      <td>node2</td>\n",
       "      <td>ufxmcsgt5e</td>\n",
       "      <td>MultipleChoice</td>\n",
       "      <td>1.1</td>\n",
       "      <td>Car on cold day</td>\n",
       "      <td>2</td>\n",
       "      <td>1</td>\n",
       "      <td>0</td>\n",
       "      <td>2016-12-08 09:12:48</td>\n",
       "      <td>...</td>\n",
       "      <td>CrystalMosteiro</td>\n",
       "      <td>18961</td>\n",
       "      <td>148031</td>\n",
       "      <td>NaN</td>\n",
       "      <td>NaN</td>\n",
       "      <td>NaN</td>\n",
       "      <td>NaN</td>\n",
       "      <td>NaN</td>\n",
       "      <td>NaN</td>\n",
       "      <td>NaN</td>\n",
       "    </tr>\n",
       "    <tr>\n",
       "      <th>1</th>\n",
       "      <td>277257</td>\n",
       "      <td>node2</td>\n",
       "      <td>hucom13uly</td>\n",
       "      <td>OpenResponse</td>\n",
       "      <td>1.1</td>\n",
       "      <td>Car on cold day</td>\n",
       "      <td>3</td>\n",
       "      <td>1</td>\n",
       "      <td>0</td>\n",
       "      <td>2016-12-08 09:12:48</td>\n",
       "      <td>...</td>\n",
       "      <td>CrystalMosteiro</td>\n",
       "      <td>18961</td>\n",
       "      <td>148031</td>\n",
       "      <td>NaN</td>\n",
       "      <td>NaN</td>\n",
       "      <td>If it has been parked in the sun the sun will ...</td>\n",
       "      <td>NaN</td>\n",
       "      <td>NaN</td>\n",
       "      <td>NaN</td>\n",
       "      <td>NaN</td>\n",
       "    </tr>\n",
       "    <tr>\n",
       "      <th>2</th>\n",
       "      <td>277258</td>\n",
       "      <td>node2</td>\n",
       "      <td>30dxrmhj4j</td>\n",
       "      <td>MultipleChoice</td>\n",
       "      <td>1.1</td>\n",
       "      <td>Car on cold day</td>\n",
       "      <td>4</td>\n",
       "      <td>1</td>\n",
       "      <td>0</td>\n",
       "      <td>2016-12-08 09:12:48</td>\n",
       "      <td>...</td>\n",
       "      <td>CrystalMosteiro</td>\n",
       "      <td>18961</td>\n",
       "      <td>148031</td>\n",
       "      <td>NaN</td>\n",
       "      <td>NaN</td>\n",
       "      <td>NaN</td>\n",
       "      <td>NaN</td>\n",
       "      <td>NaN</td>\n",
       "      <td>NaN</td>\n",
       "      <td>NaN</td>\n",
       "    </tr>\n",
       "    <tr>\n",
       "      <th>3</th>\n",
       "      <td>277340</td>\n",
       "      <td>node8</td>\n",
       "      <td>sbjun1lzwx</td>\n",
       "      <td>OpenResponse</td>\n",
       "      <td>1.2</td>\n",
       "      <td>Design Something New</td>\n",
       "      <td>3</td>\n",
       "      <td>1</td>\n",
       "      <td>0</td>\n",
       "      <td>2016-12-08 09:16:53</td>\n",
       "      <td>...</td>\n",
       "      <td>CrystalMosteiro</td>\n",
       "      <td>18961</td>\n",
       "      <td>148031</td>\n",
       "      <td>NaN</td>\n",
       "      <td>NaN</td>\n",
       "      <td>1. Build your catapult \\n2. Test your catapult...</td>\n",
       "      <td>NaN</td>\n",
       "      <td>NaN</td>\n",
       "      <td>NaN</td>\n",
       "      <td>NaN</td>\n",
       "    </tr>\n",
       "  </tbody>\n",
       "</table>\n",
       "<p>4 rows × 26 columns</p>\n",
       "</div>"
      ],
      "text/plain": [
       "       id node id component id  component type  stepnumber  \\\n",
       "0  277256   node2   ufxmcsgt5e  MultipleChoice         1.1   \n",
       "1  277257   node2   hucom13uly    OpenResponse         1.1   \n",
       "2  277258   node2   30dxrmhj4j  MultipleChoice         1.1   \n",
       "3  277340   node8   sbjun1lzwx    OpenResponse         1.2   \n",
       "\n",
       "             step title  component_number  isAutoSave  isSubmit  \\\n",
       "0       Car on cold day                 2           1         0   \n",
       "1       Car on cold day                 3           1         0   \n",
       "2       Car on cold day                 4           1         0   \n",
       "3  Design Something New                 3           1         0   \n",
       "\n",
       "     client save time     ...      teacher username project id  WISE ID 1  \\\n",
       "0 2016-12-08 09:12:48     ...       CrystalMosteiro      18961     148031   \n",
       "1 2016-12-08 09:12:48     ...       CrystalMosteiro      18961     148031   \n",
       "2 2016-12-08 09:12:48     ...       CrystalMosteiro      18961     148031   \n",
       "3 2016-12-08 09:16:53     ...       CrystalMosteiro      18961     148031   \n",
       "\n",
       "   WISE ID 2  WISE ID 3                                           response  \\\n",
       "0        NaN        NaN                                                NaN   \n",
       "1        NaN        NaN  If it has been parked in the sun the sun will ...   \n",
       "2        NaN        NaN                                                NaN   \n",
       "3        NaN        NaN  1. Build your catapult \\n2. Test your catapult...   \n",
       "\n",
       "  Unnamed: 22  Unnamed: 23  Unnamed: 24  Unnamed: 25  \n",
       "0         NaN          NaN          NaN          NaN  \n",
       "1         NaN          NaN          NaN          NaN  \n",
       "2         NaN          NaN          NaN          NaN  \n",
       "3         NaN          NaN          NaN          NaN  \n",
       "\n",
       "[4 rows x 26 columns]"
      ]
     },
     "execution_count": 6,
     "metadata": {},
     "output_type": "execute_result"
    }
   ],
   "source": [
    "df_post.head(4)"
   ]
  },
  {
   "cell_type": "code",
   "execution_count": 8,
   "metadata": {
    "collapsed": false
   },
   "outputs": [],
   "source": [
    "Car_post = df_post[(df_post.stepnumber == 1.1) & (df_post.component_number == 3)]\n",
    "Car_post.to_csv('Car_post.csv')"
   ]
  },
  {
   "cell_type": "code",
   "execution_count": 9,
   "metadata": {
    "collapsed": true
   },
   "outputs": [],
   "source": [
    "Design1_post = df_post[(df_post.stepnumber == 1.2) & (df_post.component_number == 2)]\n",
    "Design2_post = df_post[(df_post.stepnumber == 1.2) & (df_post.component_number == 3)]\n",
    "Design1_post.to_csv('Design1_post.csv')\n",
    "Design2_post.to_csv('Design2_post.csv')"
   ]
  },
  {
   "cell_type": "code",
   "execution_count": 10,
   "metadata": {
    "collapsed": false
   },
   "outputs": [],
   "source": [
    "David2_post = df_post[(df_post.stepnumber == 1.3) & (df_post.component_number == 2)]\n",
    "David4_post = df_post[(df_post.stepnumber == 1.3) & (df_post.component_number == 4)]\n",
    "David5_post = df_post[(df_post.stepnumber == 1.3) & (df_post.component_number == 5)]\n",
    "David2_post.to_csv('David2_post.csv')\n",
    "David4_post.to_csv('David4_post.csv')\n",
    "David5_post.to_csv('David5_post.csv')"
   ]
  },
  {
   "cell_type": "code",
   "execution_count": 11,
   "metadata": {
    "collapsed": true
   },
   "outputs": [],
   "source": [
    "Tomato1_post = df_post[(df_post.stepnumber == 1.4) & (df_post.component_number == 2)]\n",
    "Tomato2_post = df_post[(df_post.stepnumber == 1.4) & (df_post.component_number == 3)]\n",
    "Tomato1_post.to_csv('Tomato1_post.csv')\n",
    "Tomato2_post.to_csv('Tomato2_post.csv')"
   ]
  },
  {
   "cell_type": "code",
   "execution_count": 12,
   "metadata": {
    "collapsed": true
   },
   "outputs": [],
   "source": [
    "Greenhouse1_post = df_post[(df_post.stepnumber == 1.5) & (df_post.component_number == 3)] \n",
    "Greenhouse2_post = df_post[(df_post.stepnumber == 1.5) & (df_post.component_number == 5)]\n",
    "Greenhouse1_post.to_csv('Greenhouse3_post.csv')\n",
    "Greenhouse2_post.to_csv('Greenhouse5_post.csv')"
   ]
  },
  {
   "cell_type": "code",
   "execution_count": 13,
   "metadata": {
    "collapsed": true
   },
   "outputs": [],
   "source": [
    "Laura1_post = df_post[(df_post.stepnumber == 1.6) & (df_post.component_number == 3)] \n",
    "Laura2_post = df_post[(df_post.stepnumber == 1.6) & (df_post.component_number == 5)]          \n",
    "Laura1_post.to_csv('Laura1_post.csv')\n",
    "Laura2_post.to_csv('Laura2_post.csv')"
   ]
  },
  {
   "cell_type": "markdown",
   "metadata": {
    "collapsed": true
   },
   "source": [
    "***Embedded - Modeling Question***"
   ]
  },
  {
   "cell_type": "code",
   "execution_count": 4,
   "metadata": {
    "collapsed": false
   },
   "outputs": [],
   "source": [
    "df_unit = pd.read_csv(\"Leech_OvensF16.csv\", delimiter = \",\")"
   ]
  },
  {
   "cell_type": "code",
   "execution_count": 5,
   "metadata": {
    "collapsed": false
   },
   "outputs": [
    {
     "data": {
      "text/html": [
       "<div>\n",
       "<table border=\"1\" class=\"dataframe\">\n",
       "  <thead>\n",
       "    <tr style=\"text-align: right;\">\n",
       "      <th></th>\n",
       "      <th>id</th>\n",
       "      <th>node_id</th>\n",
       "      <th>component id</th>\n",
       "      <th>component type</th>\n",
       "      <th>step number</th>\n",
       "      <th>step_title</th>\n",
       "      <th>component part number</th>\n",
       "      <th>isAutoSave</th>\n",
       "      <th>isSubmit</th>\n",
       "      <th>client save time</th>\n",
       "      <th>...</th>\n",
       "      <th>workgroup id</th>\n",
       "      <th>period name</th>\n",
       "      <th>teacher username</th>\n",
       "      <th>project id</th>\n",
       "      <th>WISE ID 1</th>\n",
       "      <th>WISE ID 2</th>\n",
       "      <th>WISE ID 3</th>\n",
       "      <th>response</th>\n",
       "      <th>Unnamed: 22</th>\n",
       "      <th>Unnamed: 23</th>\n",
       "    </tr>\n",
       "  </thead>\n",
       "  <tbody>\n",
       "    <tr>\n",
       "      <th>0</th>\n",
       "      <td>134812</td>\n",
       "      <td>141</td>\n",
       "      <td>0m2q7sopxn</td>\n",
       "      <td>OpenResponse</td>\n",
       "      <td>1.9 B2</td>\n",
       "      <td>Solar Oven Predictions</td>\n",
       "      <td>1</td>\n",
       "      <td>1</td>\n",
       "      <td>0</td>\n",
       "      <td>10/20/16 8:51</td>\n",
       "      <td>...</td>\n",
       "      <td>271671</td>\n",
       "      <td>1</td>\n",
       "      <td>BenLeech</td>\n",
       "      <td>18280</td>\n",
       "      <td>153864</td>\n",
       "      <td>NaN</td>\n",
       "      <td>NaN</td>\n",
       "      <td>i think we will use computer models for ideas.</td>\n",
       "      <td>NaN</td>\n",
       "      <td>NaN</td>\n",
       "    </tr>\n",
       "    <tr>\n",
       "      <th>1</th>\n",
       "      <td>134813</td>\n",
       "      <td>141</td>\n",
       "      <td>hbyudad3yq</td>\n",
       "      <td>MultipleChoice</td>\n",
       "      <td>1.9 B2</td>\n",
       "      <td>Solar Oven Predictions</td>\n",
       "      <td>3</td>\n",
       "      <td>1</td>\n",
       "      <td>0</td>\n",
       "      <td>10/20/16 8:51</td>\n",
       "      <td>...</td>\n",
       "      <td>271671</td>\n",
       "      <td>1</td>\n",
       "      <td>BenLeech</td>\n",
       "      <td>18280</td>\n",
       "      <td>153864</td>\n",
       "      <td>NaN</td>\n",
       "      <td>NaN</td>\n",
       "      <td>NaN</td>\n",
       "      <td>NaN</td>\n",
       "      <td>NaN</td>\n",
       "    </tr>\n",
       "    <tr>\n",
       "      <th>2</th>\n",
       "      <td>134829</td>\n",
       "      <td>141</td>\n",
       "      <td>36gq0xnpl5</td>\n",
       "      <td>MultipleChoice</td>\n",
       "      <td>1.9 B2</td>\n",
       "      <td>Solar Oven Predictions</td>\n",
       "      <td>4</td>\n",
       "      <td>0</td>\n",
       "      <td>0</td>\n",
       "      <td>10/20/16 8:52</td>\n",
       "      <td>...</td>\n",
       "      <td>271671</td>\n",
       "      <td>1</td>\n",
       "      <td>BenLeech</td>\n",
       "      <td>18280</td>\n",
       "      <td>153864</td>\n",
       "      <td>NaN</td>\n",
       "      <td>NaN</td>\n",
       "      <td>NaN</td>\n",
       "      <td>NaN</td>\n",
       "      <td>NaN</td>\n",
       "    </tr>\n",
       "    <tr>\n",
       "      <th>3</th>\n",
       "      <td>134830</td>\n",
       "      <td>141</td>\n",
       "      <td>jajgwsy4l1</td>\n",
       "      <td>MultipleChoice</td>\n",
       "      <td>1.9 B2</td>\n",
       "      <td>Solar Oven Predictions</td>\n",
       "      <td>5</td>\n",
       "      <td>0</td>\n",
       "      <td>0</td>\n",
       "      <td>10/20/16 8:52</td>\n",
       "      <td>...</td>\n",
       "      <td>271671</td>\n",
       "      <td>1</td>\n",
       "      <td>BenLeech</td>\n",
       "      <td>18280</td>\n",
       "      <td>153864</td>\n",
       "      <td>NaN</td>\n",
       "      <td>NaN</td>\n",
       "      <td>NaN</td>\n",
       "      <td>NaN</td>\n",
       "      <td>NaN</td>\n",
       "    </tr>\n",
       "    <tr>\n",
       "      <th>4</th>\n",
       "      <td>134831</td>\n",
       "      <td>141</td>\n",
       "      <td>fag56eui44</td>\n",
       "      <td>MultipleChoice</td>\n",
       "      <td>1.9 B2</td>\n",
       "      <td>Solar Oven Predictions</td>\n",
       "      <td>6</td>\n",
       "      <td>0</td>\n",
       "      <td>0</td>\n",
       "      <td>10/20/16 8:52</td>\n",
       "      <td>...</td>\n",
       "      <td>271671</td>\n",
       "      <td>1</td>\n",
       "      <td>BenLeech</td>\n",
       "      <td>18280</td>\n",
       "      <td>153864</td>\n",
       "      <td>NaN</td>\n",
       "      <td>NaN</td>\n",
       "      <td>NaN</td>\n",
       "      <td>NaN</td>\n",
       "      <td>NaN</td>\n",
       "    </tr>\n",
       "  </tbody>\n",
       "</table>\n",
       "<p>5 rows × 24 columns</p>\n",
       "</div>"
      ],
      "text/plain": [
       "       id  node_id component id  component type step number  \\\n",
       "0  134812      141   0m2q7sopxn    OpenResponse      1.9 B2   \n",
       "1  134813      141   hbyudad3yq  MultipleChoice      1.9 B2   \n",
       "2  134829      141   36gq0xnpl5  MultipleChoice      1.9 B2   \n",
       "3  134830      141   jajgwsy4l1  MultipleChoice      1.9 B2   \n",
       "4  134831      141   fag56eui44  MultipleChoice      1.9 B2   \n",
       "\n",
       "                step_title  component part number  isAutoSave  isSubmit  \\\n",
       "0  Solar Oven Predictions                       1           1         0   \n",
       "1  Solar Oven Predictions                       3           1         0   \n",
       "2  Solar Oven Predictions                       4           0         0   \n",
       "3  Solar Oven Predictions                       5           0         0   \n",
       "4  Solar Oven Predictions                       6           0         0   \n",
       "\n",
       "  client save time     ...      workgroup id period name  teacher username  \\\n",
       "0    10/20/16 8:51     ...            271671           1          BenLeech   \n",
       "1    10/20/16 8:51     ...            271671           1          BenLeech   \n",
       "2    10/20/16 8:52     ...            271671           1          BenLeech   \n",
       "3    10/20/16 8:52     ...            271671           1          BenLeech   \n",
       "4    10/20/16 8:52     ...            271671           1          BenLeech   \n",
       "\n",
       "   project id  WISE ID 1  WISE ID 2 WISE ID 3  \\\n",
       "0       18280     153864        NaN       NaN   \n",
       "1       18280     153864        NaN       NaN   \n",
       "2       18280     153864        NaN       NaN   \n",
       "3       18280     153864        NaN       NaN   \n",
       "4       18280     153864        NaN       NaN   \n",
       "\n",
       "                                         response  Unnamed: 22  Unnamed: 23  \n",
       "0  i think we will use computer models for ideas.          NaN          NaN  \n",
       "1                                             NaN          NaN          NaN  \n",
       "2                                             NaN          NaN          NaN  \n",
       "3                                             NaN          NaN          NaN  \n",
       "4                                             NaN          NaN          NaN  \n",
       "\n",
       "[5 rows x 24 columns]"
      ]
     },
     "execution_count": 5,
     "metadata": {},
     "output_type": "execute_result"
    }
   ],
   "source": [
    "df_unit.head(5)"
   ]
  },
  {
   "cell_type": "code",
   "execution_count": 24,
   "metadata": {
    "collapsed": false
   },
   "outputs": [],
   "source": [
    "GT1 = df_unit[(df_unit.node_id == 129)] \n",
    "GT2 = df_unit[(df_unit.node_id == 79)] \n",
    "GT = GT1.append([GT2])\n",
    "GT.to_csv('GiveTake.csv')"
   ]
  },
  {
   "cell_type": "code",
   "execution_count": 25,
   "metadata": {
    "collapsed": true
   },
   "outputs": [],
   "source": [
    "Plan1 = df_unit[(df_unit.node_id == 23)] \n",
    "Plan2 = df_unit[(df_unit.node_id == 120)] \n",
    "Plan = Plan1.append([Plan2])\n",
    "Plan.to_csv('Plan.csv')"
   ]
  },
  {
   "cell_type": "code",
   "execution_count": 26,
   "metadata": {
    "collapsed": true
   },
   "outputs": [],
   "source": [
    "Exp1 = df_unit[(df_unit.node_id == 144)] \n",
    "Exp2 = df_unit[(df_unit.node_id == 57)] \n",
    "Exp = Exp1.append([Exp2])\n",
    "Exp.to_csv('Explain.csv')"
   ]
  },
  {
   "cell_type": "code",
   "execution_count": 6,
   "metadata": {
    "collapsed": true
   },
   "outputs": [],
   "source": [
    "Predict1 = df_unit[(df_unit.node_id == 141)]\n",
    "Predict1.to_csv('Predict.csv')"
   ]
  },
  {
   "cell_type": "code",
   "execution_count": 7,
   "metadata": {
    "collapsed": true
   },
   "outputs": [],
   "source": [
    "Model1 = df_unit[(df_unit.node_id == 122)]\n",
    "Model1.to_csv('Model1.csv')\n",
    "Model2 = df_unit[(df_unit.node_id == 130)]\n",
    "Model2.to_csv('Model2.csv')"
   ]
  },
  {
   "cell_type": "code",
   "execution_count": null,
   "metadata": {
    "collapsed": true
   },
   "outputs": [],
   "source": []
  }
 ],
 "metadata": {
  "kernelspec": {
   "display_name": "Python 2",
   "language": "python",
   "name": "python2"
  },
  "language_info": {
   "codemirror_mode": {
    "name": "ipython",
    "version": 2
   },
   "file_extension": ".py",
   "mimetype": "text/x-python",
   "name": "python",
   "nbconvert_exporter": "python",
   "pygments_lexer": "ipython2",
   "version": "2.7.12"
  }
 },
 "nbformat": 4,
 "nbformat_minor": 0
}
